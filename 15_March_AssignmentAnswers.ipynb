{
  "nbformat": 4,
  "nbformat_minor": 0,
  "metadata": {
    "colab": {
      "provenance": []
    },
    "kernelspec": {
      "name": "python3",
      "display_name": "Python 3"
    },
    "language_info": {
      "name": "python"
    }
  },
  "cells": [
    {
      "cell_type": "code",
      "execution_count": null,
      "metadata": {
        "id": "OCZzB3cMF_lH"
      },
      "outputs": [],
      "source": []
    },
    {
      "cell_type": "markdown",
      "source": [
        "Q1: Explain the following with an example:\n",
        "A)Artificial Intelligence\n",
        "B) Machine Learnin,\n",
        "C)Deep Learning"
      ],
      "metadata": {
        "id": "rT5jFDzoGCyY"
      }
    },
    {
      "cell_type": "markdown",
      "source": [
        "**Ans:**\n",
        "\n",
        "**Artificial Intelligence:**\n",
        "\n",
        "It is smart applications that can perform its own task without any human intervention\n",
        "\n",
        "Ex) Self Driving cars, Robots\n",
        "\n",
        "**Machine Learning:**\n",
        "It provides statistical tools to learn , analyze, visualize and develop predictive models from the data\n",
        "Ex) Amazon, Netflix\n",
        "\n",
        "**Deep learning; **\n",
        "\n",
        "It is a subset of Machine learning. The main aim is to mimick the human brain. Multi layered Neural network. Example) Object Detection, Image detection, Chat GPT, chatBoT"
      ],
      "metadata": {
        "id": "fXR1-wXMGHqt"
      }
    },
    {
      "cell_type": "markdown",
      "source": [],
      "metadata": {
        "id": "cESB-XaEGTQs"
      }
    },
    {
      "cell_type": "markdown",
      "source": [
        "Q2: What is supervised learning? List some examples of supervised learnin"
      ],
      "metadata": {
        "id": "ZeOz3zI9GaUM"
      }
    },
    {
      "cell_type": "markdown",
      "source": [
        "It is defined by its use of labeled datasets to train algorithms that to classify data or predict outcomes accurately.\n",
        "Supervised learning is utilized in voice recognition to help virtual assistants and other applications recognize and understand spoken commands. A labeled dataset of spoken words and phrases with corresponding text transcripts is used to train a machine learning algorithm in such scenarios.\n",
        "\n",
        "Other examples)\n",
        "Predicting the demand for a product based on historical sales data\n",
        "Forecasting the stock price of a company based on financial data\n",
        "Predicting the likelihood of a customer defaulting on a loan based on their credit history"
      ],
      "metadata": {
        "id": "sBzbDUIsGdaT"
      }
    },
    {
      "cell_type": "markdown",
      "source": [
        "Q3:  What is unsupervised learning? List some examples of unsupervised learning."
      ],
      "metadata": {
        "id": "A643M8-LGjMl"
      }
    },
    {
      "cell_type": "markdown",
      "source": [
        "It uses machine learning algorithms to analyze and cluster unlabeled datasets. These algorithms discover hidden patterns or data groupings without the need for human intervention.\n",
        "Its ability to discover similarities and differences in information make it the ideal solution for exploratory data analysis, cross-selling strategies, customer segmentation, and image recognition.\n",
        "\n",
        "Realtime Examples) Any recommendation system, Anomoly detection, Customer segmentation etc"
      ],
      "metadata": {
        "id": "I2gDJQl5Gll9"
      }
    },
    {
      "cell_type": "markdown",
      "source": [
        "Q4: What is the difference between AI, ML, DL, and DS?"
      ],
      "metadata": {
        "id": "sbUDBAOpGopT"
      }
    },
    {
      "cell_type": "markdown",
      "source": [
        "Deep Learning is the subset of Machine Learning and Machine Learning is the subset of Artificial Intelligence. Data Science uses the features of AI,ML and DL\n",
        "\n",
        "Artificial Intelligence helps in development of smart application which can perform task by itself without any human intervention\n",
        "\n",
        "Deep Learning mimiks the human brain using multilayered Neural networks\n",
        "\n",
        "Machine learning uses statistical tools to learn, analyze and visualize  predictive models from the data"
      ],
      "metadata": {
        "id": "K6i9D-aiGqYD"
      }
    },
    {
      "cell_type": "markdown",
      "source": [
        "Q5: What are the main differences between supervised, unsupervised, and semi-supervised learning?"
      ],
      "metadata": {
        "id": "r7JhbCMtGsrr"
      }
    },
    {
      "cell_type": "markdown",
      "source": [
        "Supervised Learning: It uses Labeled dataset (Input variables and output response). With availablility of the response variables we are able to compare prediction.The ultimate goal of supervised learning is to build a model that generalizes well on future unseen data.Example) Evaluating prediction of results in election, set of students to predict pass/fail,\n",
        "\n",
        "Unsupervised Learning: It uses unlabeled data.Here there is no prediction.Through this we are exploring underlying insights. Example) Targeting a product for a group of customers, Promoting products etc\n",
        "\n",
        "Semisupervised Learning: This kind of learning lies in between supervised and unsupervised. It has mixture of labeled and unlabeled data with larger proportion for latter. Data available today is mostly of this form, as it is costly, time consuming, and requires expertise to get a huge data labeled. When such data is given, unsupervised learning technique is used and followed by supervised learning. Data is divided into clusters and missing labels are predicted.Example) Speech Analysi, Building text document classifier"
      ],
      "metadata": {
        "id": "dS3IYbmAGuec"
      }
    },
    {
      "cell_type": "markdown",
      "source": [
        "\n",
        "Q6: What is train, test and validation split? Explain the importance of each term"
      ],
      "metadata": {
        "id": "1LIz3d8UGxfz"
      }
    },
    {
      "cell_type": "markdown",
      "source": [
        "Train Dataset:\n",
        "The training data is the biggest subset of the original dataset, It is used to train or fit the machine learning model. Firstly, the training data is fed to the ML algorithms, which lets them learn how to make predictions for the given task.\n",
        "\n",
        "Train dataset is important as this will help to build the ML Model in a better way .\n",
        "\n",
        "Test Dataset:\n",
        "This dataset evaluates the performance of the model and ensures that the model can generalize well with the new or unseen dataset. The test dataset is another subset of original data, which is independent of the training dataset.\n",
        "This stage is important as it helps in testing the performance the model against the dataset and also helps in evaluating the accuracy of the model built\n",
        "\n",
        "Validation Dataset:\n",
        "The sample of data used to provide an unbiased evaluation of a model fit on the training dataset while tuning model hyperparameters. The evaluation becomes more biased as skill on the validation dataset is incorporated into the model configuration.\n",
        "\n",
        "Before moving to production this unknown dataset similar to production like dataset is required so that we can tune the model in a better way"
      ],
      "metadata": {
        "id": "hXJf3hcvGzdL"
      }
    },
    {
      "cell_type": "markdown",
      "source": [
        "Q7: How can unsupervised learning be used in anomaly detection?"
      ],
      "metadata": {
        "id": "_1zLbHiaG3rS"
      }
    },
    {
      "cell_type": "markdown",
      "source": [
        "Unsupervised learning’s ability of identifying patterns and outliers in data will be mainly used. Any datapoint that does not fit well into any of the cluster can be considered as Anomaly. The degree of deviation from the cluster of data will be used to detect the anomaly."
      ],
      "metadata": {
        "id": "ALDQOcYbG5zs"
      }
    },
    {
      "cell_type": "markdown",
      "source": [
        "\n",
        "Q8: List down some commonly used supervised learning algorithms and unsupervised learning algorithms."
      ],
      "metadata": {
        "id": "M-wR_vrWG7yi"
      }
    },
    {
      "cell_type": "markdown",
      "source": [
        "Supervised Learning: Decision Tree, logistic regression, linear Regression, support vector machine\n",
        "Unsupervised Learning K-means clustering, hierarchical clustering, apriori algorithm"
      ],
      "metadata": {
        "id": "Yzo_qVKlG9YK"
      }
    },
    {
      "cell_type": "markdown",
      "source": [],
      "metadata": {
        "id": "kv-jn1hVHATE"
      }
    }
  ]
}